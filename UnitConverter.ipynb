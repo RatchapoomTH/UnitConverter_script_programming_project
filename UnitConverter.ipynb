{
  "nbformat": 4,
  "nbformat_minor": 0,
  "metadata": {
    "colab": {
      "provenance": [],
      "include_colab_link": true
    },
    "kernelspec": {
      "name": "python3",
      "display_name": "Python 3"
    },
    "language_info": {
      "name": "python"
    }
  },
  "cells": [
    {
      "cell_type": "markdown",
      "metadata": {
        "id": "view-in-github",
        "colab_type": "text"
      },
      "source": [
        "<a href=\"https://colab.research.google.com/github/RatchapoomTH/UnitConverter_script_programming_project/blob/main/UnitConverter.ipynb\" target=\"_parent\"><img src=\"https://colab.research.google.com/assets/colab-badge.svg\" alt=\"Open In Colab\"/></a>"
      ]
    },
    {
      "cell_type": "markdown",
      "source": [
        "# **Unit Converter - Sprint 1 (week1)**\n",
        "\n",
        "\n",
        "---\n",
        "\n"
      ],
      "metadata": {
        "id": "4dqsLdIUg6-2"
      }
    },
    {
      "cell_type": "markdown",
      "source": [
        "\n",
        "\n",
        "> **Prompt 1**\n",
        "\n",
        "> as a student in a group of 3 persons: โบ๊ท as planner, ต้า as debugger and ข้าวปั้น as coder & debugger with topic:Unit Converter, how to progress with week1/sprint 1\n",
        "\n",
        "\n"
      ],
      "metadata": {
        "id": "swWCRCtd0eum"
      }
    },
    {
      "cell_type": "markdown",
      "source": [
        ">⭐ **เป้าหมายสัปดาห์ที่ 1 (Goals)** ⭐\n",
        "\n",
        "\n",
        "1.   วางแผนการแบ่งหน้าการทำงานของแต่ละคน\n",
        "2.   ออกแบบและสร้างโปรแกรมเปลี่ยนหน่วย (Unit Converter) เบื้องต้น\n",
        "3.   ทดสอบการรันโปรแกรมว่าสามารถรันได้หรือไม่\n",
        "4.   ตรวจสอบผลลัพธ์ที่ได้ หากเกิดขอผิดพลาดให้ไปปรับปรุงแก้ไข"
      ],
      "metadata": {
        "id": "2ySI7aSIs95O"
      }
    },
    {
      "cell_type": "markdown",
      "source": [
        "> **หน้าที่ของสมาชิกแต่ละคน**\n",
        "1. 📝 **โบ๊ท (Planner**)\n",
        "\n",
        "    *   วางแผนการแบ่งหน้าที่การทำงานของแต่ละคน\n",
        "    *   กำหนดขอบเขตการทำงานของโปรแกรม\n",
        "    *   กำหนด requirement เบื้องต้น เช่น ต้องการ Input Output ในรูปแบบไหน\n",
        "    *   วาง Timeline ของโปรเจกต์ ใน week 2\n",
        "\n",
        "2. 🐞 **ต้า (Debugger)**\n",
        "\n",
        "    *   ศึกษา วิธีการทดสอบโปรแกรม Unit Converter เบื้องต้น สูตรการคำนวณในการแปลงหน่วยต่างๆ\n",
        "    *   เตรียม Test Case ไว้ล่วงหน้า เพื่อใช้ตรวจสอบเมื่อโค้ดเริ่มถูกเขียนแล้ว\n",
        "    *   ช่วยรีวิว requirement จาก Planner ว่ามีจุดไหนควรทดสอบหรือมีความคลุมเครือ\n",
        "\n",
        "3. 💻 **ข้าวปั้น (Coder & Debugger)**\n",
        "    *   ตั้งค่า Environment สำหรับการเขียนโค้ด ในที่นี้เลือกใช้ Python\n",
        "    *  เตรียมโครงสร้างไฟล์โปรเจกต์\n",
        "    *  ทดลองเขียนฟังก์ชันแปลงหน่วยง่าย ๆ เช่น kg → lb, C → F\n",
        "    *  เขียน README เบื้องต้น อธิบายว่าโปรเจกต์นี้ทำอะไร ใช้งานอย่างไร"
      ],
      "metadata": {
        "id": "hBDHJQf2vOS2"
      }
    },
    {
      "cell_type": "markdown",
      "source": [
        "\n",
        "\n",
        ">📂 **Deliverables สิ้นสัปดาห์ที่ 1**\n",
        "\n",
        "1. ขอบเขตของโปรเจกต์ + Requirement (โดยโบ๊ท) ✅\n",
        "2. Test Cases เบื้องต้น (โดยต้า) ✅\n",
        "3. โครงสร้างโปรเจกต์ + ฟังก์ชันทดลองเล็ก ๆ (โดยข้าวปั้น) ✅\n",
        "4. Task Board แบ่งงานชัดเจน (ทั้งทีมเห็นร่วมกัน) ✅\n",
        "\n",
        "\n"
      ],
      "metadata": {
        "id": "5ksWUWPd-1xm"
      }
    },
    {
      "cell_type": "markdown",
      "source": [
        "\n",
        "\n",
        ">**🐍 Code ของสัปดาห์นี้**\n",
        "\n"
      ],
      "metadata": {
        "id": "kr5EYfB7PBhh"
      }
    },
    {
      "cell_type": "code",
      "execution_count": null,
      "metadata": {
        "colab": {
          "base_uri": "https://localhost:8080/"
        },
        "id": "7xED4EpI0rrj",
        "outputId": "ab42f1c4-1538-4057-84d7-f7ce71c72b17"
      },
      "outputs": [
        {
          "output_type": "stream",
          "name": "stdout",
          "text": [
            "Overwriting converter.py\n"
          ]
        }
      ],
      "source": [
        "%%writefile converter.py\n",
        "\n",
        "def fahrenheit_to_celsius(fr):\n",
        "    fr = (fr - 32) * 5 / 9\n",
        "    return fr, f\"Fahrenheit equal {fr:.2f} Celsius\"\n",
        "\n",
        "def celsius_to_fahrenheit(c):\n",
        "    c = (c * 9 / 5) + 32\n",
        "    return c, f\"Celsius equal {c:.2f} Fahrenheit\"\n",
        "\n",
        "def celsius_to_kelvin(c):\n",
        "    k = c + 273.15\n",
        "    return k, f\"Celsius equal {k:.2f} Kelvin\"\n",
        "\n",
        "def kilogram_to_pound(kg):\n",
        "    lb = kg * 2.20462\n",
        "    return lb, f\"{kg:.2f} Kilogram equal {lb:.2f} Pound\"\n",
        "\n",
        "def pound_to_kilogram(lb):\n",
        "    kg = lb / 2.20462\n",
        "    return kg, f\"{lb:.2f} Pound equal {kg:.2f} Kilogram\"\n"
      ]
    },
    {
      "cell_type": "code",
      "source": [
        "import converter\n",
        "\n",
        "while True:\n",
        "    print(\"=== 🗿 Welcome to Unit Converter 🗿 ===\")\n",
        "    print(\"1. Fahrenheit to Celsius\")\n",
        "    print(\"2. Celsius to Fahrenheit\")\n",
        "    print(\"3. Celsius to Kelvin\")\n",
        "    print(\"4. Kilogram to Pound\")\n",
        "    print(\"5. Pound to Kilogram\")\n",
        "    print(\"6. Exit\")\n",
        "    print(\"====================================\\n\")\n",
        "\n",
        "    try:\n",
        "        choice = int(input(\"Choose your Choice: \"))\n",
        "    except ValueError:\n",
        "        print(\"❌ Invalid input! Please enter a number.\\n\")\n",
        "        continue\n",
        "\n",
        "    if choice == 1:\n",
        "        fr = float(input(\"Enter Fahrenheit: \"))\n",
        "        result, message = converter.fahrenheit_to_celsius(fr)\n",
        "        print(message, \"\\n\")\n",
        "\n",
        "    elif choice == 2:\n",
        "        c = float(input(\"Enter Celsius: \"))\n",
        "        result, message = converter.celsius_to_fahrenheit(c)\n",
        "        print(message, \"\\n\")\n",
        "\n",
        "    elif choice == 3:\n",
        "        c = float(input(\"Enter Celsius: \"))\n",
        "        result, message = converter.celsius_to_kelvin(c)\n",
        "        print(message, \"\\n\")\n",
        "\n",
        "    elif choice == 4:\n",
        "        kg = float(input(\"Enter Kilogram: \"))\n",
        "        result, message = converter.kilogram_to_pound(kg)\n",
        "        print(message, \"\\n\")\n",
        "\n",
        "    elif choice == 5:\n",
        "        lb = float(input(\"Enter Pound: \"))\n",
        "        result, message = converter.pound_to_kilogram(lb)\n",
        "        print(message, \"\\n\")\n",
        "\n",
        "    elif choice == 6:\n",
        "        print(\"Exiting the converter. Goodbye!\\n\")\n",
        "        break\n",
        "\n",
        "    else:\n",
        "        print(\"❌ Invalid choice. Please select between 1–6.\\n\")\n"
      ],
      "metadata": {
        "colab": {
          "base_uri": "https://localhost:8080/"
        },
        "id": "B4nstVjj1LL0",
        "outputId": "086d1456-349b-45b6-8ae8-997d3544d2ef"
      },
      "execution_count": null,
      "outputs": [
        {
          "output_type": "stream",
          "name": "stdout",
          "text": [
            "=== 🗿 Welcome to Unit Converter 🗿 ===\n",
            "1. Fahrenheit to Celsius\n",
            "2. Celsius to Fahrenheit\n",
            "3. Celsius to Kelvin\n",
            "4. Kilogram to Pound\n",
            "5. Pound to Kilogram\n",
            "6. Exit\n",
            "====================================\n",
            "\n",
            "Choose your Choice: 1\n",
            "Enter Fahrenheit: 200\n",
            "Fahrenheit equal 93.33 Celsius \n",
            "\n",
            "=== 🗿 Welcome to Unit Converter 🗿 ===\n",
            "1. Fahrenheit to Celsius\n",
            "2. Celsius to Fahrenheit\n",
            "3. Celsius to Kelvin\n",
            "4. Kilogram to Pound\n",
            "5. Pound to Kilogram\n",
            "6. Exit\n",
            "====================================\n",
            "\n",
            "Choose your Choice: 6\n",
            "Exiting the converter. Goodbye!\n",
            "\n"
          ]
        }
      ]
    },
    {
      "cell_type": "markdown",
      "source": [
        "\n",
        "\n",
        "---\n",
        "\n"
      ],
      "metadata": {
        "id": "5yi2SNB7BSxm"
      }
    },
    {
      "cell_type": "markdown",
      "source": [
        "\n",
        "\n",
        "> **Prompt 2**\n",
        "\n",
        "\n",
        "\n",
        "> reframe this into github and full function sourcecode for week1/sprint 1\n",
        "\n"
      ],
      "metadata": {
        "id": "OQT4PDFKBWi2"
      }
    },
    {
      "cell_type": "markdown",
      "source": [
        "อัพโหลดไฟล์ลงไปใน Github\n",
        "Github link: [Click here!](https://github.com/RatchapoomTH/UnitConverter_script_programming_project/blob/main/UnitConverter.ipynb)"
      ],
      "metadata": {
        "id": "c9lX4RAEBtBe"
      }
    },
    {
      "cell_type": "markdown",
      "source": [
        "\n",
        "\n",
        "---\n",
        "\n"
      ],
      "metadata": {
        "id": "IrQAF8qDIyR-"
      }
    },
    {
      "cell_type": "markdown",
      "source": [
        "# **Unit Converter - Sprint 2 (week2)**"
      ],
      "metadata": {
        "id": "ZlxCzPY1IzKm"
      }
    },
    {
      "cell_type": "markdown",
      "source": [
        "\n",
        "\n",
        "> **Prompt 1**\n",
        "\n",
        "\n",
        "\n",
        "> as a student in a group of 3 persons: โบ๊ท as planner, ต้า as debugger and ข้าวปั้น as coder & debugger with topic:Unit Converter,how to progress with week 2/sprint 2. what the teacher expects, how to meet those expectations.\n",
        "\n",
        "\n"
      ],
      "metadata": {
        "id": "8TllXvcpI8tu"
      }
    },
    {
      "cell_type": "markdown",
      "source": [
        "**⭐ เป้าหมายสัปดาห์ที่ 2 (Goals) ⭐**\n",
        "\n",
        "1.   เพิ่มการแปลงความยาว (m ↔ km, cm ↔ m)\n",
        "2.   เพิ่มการแปลงเวลา (hr ↔ min, min ↔ sec)\n",
        "3.   จัดหมวดหมู่ให้โปรเจกต์ใหม่\n"
      ],
      "metadata": {
        "id": "_Tbj_O6AKt7_"
      }
    },
    {
      "cell_type": "markdown",
      "source": [
        "> **หน้าที่ของสมาชิกแต่ละคน**\n",
        "1. 📝 **โบ๊ท (Planner**)\n",
        "\n",
        "    *   ขยาย Requirement เพิ่มประเภทหน่วยที่ต้องแปลง เช่น ความยาว: km, m, cm, mm | น้ำหนัก: kg, g, lb | อุณหภูมิ: °C, °F, K\n",
        "    *   จัดลำดับความสำคัญ (Priority) ว่าหน่วยใดต้องเสร็จก่อน\n",
        "    *   กำหนด requirement เบื้องต้น เช่น ต้องการ Input Output ในรูปแบบไหน\n",
        "\n",
        "2. 🐞 **ต้า (Debugger)**\n",
        "\n",
        "    * เขียน Test Case เพิ่มเติม สำหรับหน่วยใหม่ ๆ\n",
        "    * ตรวจสอบว่าโค้ดที่ข้าวปั้นเขียนออกมาถูกต้องตาม requirement หรือไม่\n",
        "    * ตรวจสอบหา bug ที่เกิดขึ้น\n",
        "\n",
        "3. 💻 **ข้าวปั้น (Coder & Debugger)**\n",
        "    * พัฒนาฟังก์ชันแปลงหน่วยเพิ่มเติมตามที่โบ๊ทวางไว้\n",
        "    *  จัดโครงสร้างโค้ดให้ง่ายต่อการเพิ่มฟังก์ชันใหม่\n",
        "    *  รัน Test ของต้า ถ้ามี bug ก็แก้ไข"
      ],
      "metadata": {
        "id": "wDwKdJg8NVjn"
      }
    },
    {
      "cell_type": "markdown",
      "source": [
        ">📂 **Deliverables สิ้นสัปดาห์ที่ 2**\n",
        "\n",
        "1. โค้ดที่รองรับหลายหน่วยมากกว่า Sprint 1 ✅\n",
        "2. Test Cases ครอบคลุมมากขึ้น (เช่น ค่า 0, ค่าลบ, ค่าใหญ่ ๆ) ✅\n",
        "3. update github ✅\n",
        "\n",
        "\n"
      ],
      "metadata": {
        "id": "PtXq-CKfOiEB"
      }
    },
    {
      "cell_type": "markdown",
      "source": [
        "\n",
        "\n",
        ">**🐍 Code ของสัปดาห์นี้**\n",
        "\n"
      ],
      "metadata": {
        "id": "TXBZyeaPAZBe"
      }
    },
    {
      "cell_type": "code",
      "source": [
        "# cell 1\n",
        "!mkdir -p converter2"
      ],
      "metadata": {
        "id": "wMyz_2IZSDYf"
      },
      "execution_count": 15,
      "outputs": []
    },
    {
      "cell_type": "code",
      "source": [
        "# temperature.py\n",
        "%%writefile converter2/temperature.py\n",
        "def fahrenheit_to_celsius(fr: float):\n",
        "    c = (fr - 32) * 5 / 9\n",
        "    return c, f\"{fr:.2f} °F = {c:.2f} °C\"\n",
        "\n",
        "def celsius_to_fahrenheit(c: float):\n",
        "    f = (c * 9 / 5) + 32\n",
        "    return f, f\"{c:.2f} °C = {f:.2f} °F\"\n",
        "\n",
        "def celsius_to_kelvin(c: float):\n",
        "    k = c + 273.15\n",
        "    return k, f\"{c:.2f} °C = {k:.2f} K\"\n",
        "\n",
        "def kelvin_to_celsius(k: float):\n",
        "    c = k - 273.15\n",
        "    return c, f\"{k:.2f} K = {c:.2f} °C\"\n"
      ],
      "metadata": {
        "colab": {
          "base_uri": "https://localhost:8080/"
        },
        "id": "Q69lbx0aPTSg",
        "outputId": "42fe833e-9c85-4f07-a8df-438450d9033f"
      },
      "execution_count": 16,
      "outputs": [
        {
          "output_type": "stream",
          "name": "stdout",
          "text": [
            "Writing converter2/temperature.py\n"
          ]
        }
      ]
    },
    {
      "cell_type": "code",
      "source": [
        "# weight.py\n",
        "%%writefile converter2/weight.py\n",
        "def kilogram_to_pound(kg: float):\n",
        "    lb = kg * 2.20462\n",
        "    return lb, f\"{kg:.2f} kg = {lb:.2f} lb\"\n",
        "\n",
        "def pound_to_kilogram(lb: float):\n",
        "    kg = lb / 2.20462\n",
        "    return kg, f\"{lb:.2f} lb = {kg:.2f} kg\"\n"
      ],
      "metadata": {
        "colab": {
          "base_uri": "https://localhost:8080/"
        },
        "id": "952outRnPb5H",
        "outputId": "40d34164-755b-4c20-8e0c-a2544e0db7ec"
      },
      "execution_count": 17,
      "outputs": [
        {
          "output_type": "stream",
          "name": "stdout",
          "text": [
            "Writing converter2/weight.py\n"
          ]
        }
      ]
    },
    {
      "cell_type": "code",
      "source": [
        "# time.py\n",
        "%%writefile converter2/time.py\n",
        "def hours_to_minutes(hr: float):\n",
        "    minutes = hr * 60\n",
        "    return minutes, f\"{hr:.2f} hr = {minutes:.2f} min\"\n",
        "\n",
        "def minutes_to_hours(minutes: float):\n",
        "    hr = minutes / 60\n",
        "    return hr, f\"{minutes:.2f} min = {hr:.2f} hr\"\n",
        "\n",
        "def minutes_to_seconds(minutes: float):\n",
        "    sec = minutes * 60\n",
        "    return sec, f\"{minutes:.2f} min = {sec:.2f} sec\"\n",
        "\n",
        "def seconds_to_minutes(sec: float):\n",
        "    minutes = sec / 60\n",
        "    return minutes, f\"{sec:.2f} sec = {minutes:.2f} min\"\n"
      ],
      "metadata": {
        "colab": {
          "base_uri": "https://localhost:8080/"
        },
        "id": "h4KM3AfkRfYP",
        "outputId": "ed26d145-a264-452b-ef83-744ceb202ba8"
      },
      "execution_count": 19,
      "outputs": [
        {
          "output_type": "stream",
          "name": "stdout",
          "text": [
            "Writing converter2/time.py\n"
          ]
        }
      ]
    },
    {
      "cell_type": "code",
      "source": [
        "# length.py\n",
        "%%writefile converter2/length.py\n",
        "def meter_to_kilometer(m: float):\n",
        "    km = m / 1000\n",
        "    return km, f\"{m:.2f} m = {km:.2f} km\"\n",
        "\n",
        "def kilometer_to_meter(km: float):\n",
        "    m = km * 1000\n",
        "    return m, f\"{km:.2f} km = {m:.2f} m\"\n",
        "\n",
        "def centimeter_to_meter(cm: float):\n",
        "    m = cm / 100\n",
        "    return m, f\"{cm:.2f} cm = {m:.2f} m\"\n",
        "\n",
        "def meter_to_centimeter(m: float):\n",
        "    cm = m * 100\n",
        "    return cm, f\"{m:.2f} m = {cm:.2f} cm\"\n"
      ],
      "metadata": {
        "colab": {
          "base_uri": "https://localhost:8080/"
        },
        "id": "Vo0WrPlYPwB3",
        "outputId": "44c2db29-2d73-4683-ade8-62410c48c6c6"
      },
      "execution_count": 18,
      "outputs": [
        {
          "output_type": "stream",
          "name": "stdout",
          "text": [
            "Writing converter2/length.py\n"
          ]
        }
      ]
    },
    {
      "cell_type": "code",
      "source": [
        "#main.py\n",
        "from converter2 import temperature, weight, time, length\n",
        "\n",
        "while True:\n",
        "    print(\"=== 🗿 Welcome to Unit Converter 🗿 ===\")\n",
        "    print(\"[1]🌡️ Fahrenheit → Celsius | °F → °C\")\n",
        "    print(\"[2]🌡️ Celsius → Fahrenheit | °C → °F\")\n",
        "    print(\"[3]🌡️ Celsius → Kelvin | °C → K\")\n",
        "    print(\"[4]🌡️ Kelvin → Celsius | K → °C\")\n",
        "    print(\"[5]⚖️ Kilogram → Pound | kg → lb\")\n",
        "    print(\"[6]⚖️ Pound → Kilogram | lb → kg\")\n",
        "    print(\"[7]⌚ Hours → Minutes | hr → min\")\n",
        "    print(\"[8]⌚ Minutes → Hours | min → hr\")\n",
        "    print(\"[9]⌚ Minutes → Seconds | min → sec\")\n",
        "    print(\"[10]⌚ Seconds → Minutes | sec → min\")\n",
        "    print(\"[11]📏 Meters → Kilometers | m → km\")\n",
        "    print(\"[12]📏 Kilometers → Meters | km → m\")\n",
        "    print(\"[13]📏 Centimeters → Meters | cm → m\")\n",
        "    print(\"[14]📏 Meters → Centimeters | m → cm\")\n",
        "    print(\"[15] Exit\")\n",
        "    print(\"====================================\\n\")\n",
        "\n",
        "    try:\n",
        "        choice = int(input(\"Choose your Choice: \"))\n",
        "    except ValueError:\n",
        "        print(\"❌ Invalid input! Please enter a number.\\n\")\n",
        "        continue\n",
        "\n",
        "    #Temperature\n",
        "    if choice == 1:\n",
        "        fr = float(input(\"Enter Fahrenheit: \"))\n",
        "        _, message = temperature.fahrenheit_to_celsius(fr)\n",
        "    elif choice == 2:\n",
        "        c = float(input(\"Enter Celsius: \"))\n",
        "        _, message = temperature.celsius_to_fahrenheit(c)\n",
        "    elif choice == 3:\n",
        "        c = float(input(\"Enter Celsius: \"))\n",
        "        _, message = temperature.celsius_to_kelvin(c)\n",
        "    elif choice == 4:\n",
        "        k = float(input(\"Enter Kelvin: \"))\n",
        "        _, message = temperature.kelvin_to_celsius(k)\n",
        "    #Weight\n",
        "    elif choice == 5:\n",
        "        kg = float(input(\"Enter Kilogram: \"))\n",
        "        _, message = weight.kilogram_to_pound(kg)\n",
        "    elif choice == 6:\n",
        "        lb = float(input(\"Enter Pound: \"))\n",
        "        _, message = weight.pound_to_kilogram(lb)\n",
        "    #Time\n",
        "    elif choice == 7:\n",
        "        hr = float(input(\"Enter Hours: \"))\n",
        "        _, message = time.hours_to_minutes(hr)\n",
        "    elif choice == 8:\n",
        "        minutes = float(input(\"Enter Minutes: \"))\n",
        "        _, message = time.minutes_to_hours(minutes)\n",
        "    elif choice == 9:\n",
        "        minutes = float(input(\"Enter Minutes: \"))\n",
        "        _, message = time.minutes_to_seconds(minutes)\n",
        "    elif choice == 10:\n",
        "        sec = float(input(\"Enter Seconds: \"))\n",
        "        _, message = time.seconds_to_minutes(sec)\n",
        "    #Length\n",
        "    elif choice == 11:\n",
        "        m = float(input(\"Enter Meters: \"))\n",
        "        _, message = length.meter_to_kilometer(m)\n",
        "    elif choice == 12:\n",
        "        km = float(input(\"Enter Kilometers: \"))\n",
        "        _, message = length.kilometer_to_meter(km)\n",
        "    elif choice == 13:\n",
        "        cm = float(input(\"Enter Centimeters: \"))\n",
        "        _, message = length.centimeter_to_meter(cm)\n",
        "    elif choice == 14:\n",
        "        m = float(input(\"Enter Meters: \"))\n",
        "        _, message = length.meter_to_centimeter(m)\n",
        "    #Exit\n",
        "    elif choice == 15:\n",
        "        print(\"Exiting the converter. 👋 Goodbye!\\n\")\n",
        "        break\n",
        "    else:\n",
        "        print(\"❌ Invalid choice. Please select a valid number.\\n\")\n",
        "        continue\n",
        "\n",
        "    print(message, \"\\n\")\n"
      ],
      "metadata": {
        "colab": {
          "base_uri": "https://localhost:8080/"
        },
        "id": "GcPQbv0yRsHH",
        "outputId": "7b2b151f-6dd8-4da4-bde3-21e450ef308b"
      },
      "execution_count": 32,
      "outputs": [
        {
          "output_type": "stream",
          "name": "stdout",
          "text": [
            "=== 🗿 Welcome to Unit Converter 🗿 ===\n",
            "[1]🌡️ Fahrenheit → Celsius | °F → °C\n",
            "[2]🌡️ Celsius → Fahrenheit | °C → °F\n",
            "[3]🌡️ Celsius → Kelvin | °C → K\n",
            "[4]🌡️ Kelvin → Celsius | K → °C\n",
            "[5]⚖️ Kilogram → Pound | kg → lb\n",
            "[6]⚖️ Pound → Kilogram | lb → kg\n",
            "[7]⌚ Hours → Minutes | hr → min\n",
            "[8]⌚ Minutes → Hours | min → hr\n",
            "[9]⌚ Minutes → Seconds | min → sec\n",
            "[10]⌚ Seconds → Minutes | sec → min\n",
            "[11]📏 Meters → Kilometers | m → km\n",
            "[12]📏 Kilometers → Meters | km → m\n",
            "[13]📏 Centimeters → Meters | cm → m\n",
            "[14]📏 Meters → Centimeters | m → cm\n",
            "[15] Exit\n",
            "====================================\n",
            "\n",
            "Choose your Choice: 15\n",
            "Exiting the converter. 👋 Goodbye!\n",
            "\n"
          ]
        }
      ]
    },
    {
      "cell_type": "markdown",
      "source": [
        "\n",
        "\n",
        "---\n",
        "\n"
      ],
      "metadata": {
        "id": "JneqVeVQZ0ho"
      }
    }
  ]
}