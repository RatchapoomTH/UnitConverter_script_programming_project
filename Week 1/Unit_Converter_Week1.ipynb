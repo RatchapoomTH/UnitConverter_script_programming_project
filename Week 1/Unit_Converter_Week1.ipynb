{
  "nbformat": 4,
  "nbformat_minor": 0,
  "metadata": {
    "colab": {
      "provenance": [],
      "include_colab_link": true
    },
    "kernelspec": {
      "name": "python3",
      "display_name": "Python 3"
    },
    "language_info": {
      "name": "python"
    }
  },
  "cells": [
    {
      "cell_type": "markdown",
      "metadata": {
        "id": "view-in-github",
        "colab_type": "text"
      },
      "source": [
        "<a href=\"https://colab.research.google.com/github/RatchapoomTH/UnitConverter_script_programming_project/blob/main/Unit_Converter_Week1.ipynb\" target=\"_parent\"><img src=\"https://colab.research.google.com/assets/colab-badge.svg\" alt=\"Open In Colab\"/></a>"
      ]
    },
    {
      "cell_type": "markdown",
      "source": [
        "# **Unit Converter - Sprint 1 (week1)**\n",
        "\n",
        "\n",
        "---\n",
        "\n"
      ],
      "metadata": {
        "id": "4dqsLdIUg6-2"
      }
    },
    {
      "cell_type": "markdown",
      "source": [
        "\n",
        "\n",
        "> **Prompt 1**\n",
        "\n",
        "> as a student in a group of 3 persons: โบ๊ท as planner, ต้า as debugger and ข้าวปั้น as coder & debugger with topic:Unit Converter, how to progress with week1/sprint 1\n",
        "\n",
        "\n"
      ],
      "metadata": {
        "id": "swWCRCtd0eum"
      }
    },
    {
      "cell_type": "markdown",
      "source": [
        ">⭐ **เป้าหมายสัปดาห์ที่ 1 (Goals)** ⭐\n",
        "\n",
        "\n",
        "1.   วางแผนการแบ่งหน้าการทำงานของแต่ละคน\n",
        "2.   ออกแบบและสร้างโปรแกรมเปลี่ยนหน่วย (Unit Converter) เบื้องต้น\n",
        "3.   ทดสอบการรันโปรแกรมว่าสามารถรันได้หรือไม่\n",
        "4.   ตรวจสอบผลลัพธ์ที่ได้ หากเกิดขอผิดพลาดให้ไปปรับปรุงแก้ไข"
      ],
      "metadata": {
        "id": "2ySI7aSIs95O"
      }
    },
    {
      "cell_type": "markdown",
      "source": [
        "> **หน้าที่ของสมาชิกแต่ละคน**\n",
        "1. 📝 **โบ๊ท (Planner**)\n",
        "\n",
        "    *   วางแผนการแบ่งหน้าที่การทำงานของแต่ละคน\n",
        "    *   กำหนดขอบเขตการทำงานของโปรแกรม\n",
        "    *   กำหนด requirement เบื้องต้น เช่น ต้องการ Input Output ในรูปแบบไหน\n",
        "    *   วาง Timeline ของโปรเจกต์ ใน week 2\n",
        "\n",
        "2. 🐞 **ต้า (Debugger)**\n",
        "\n",
        "    *   ศึกษา วิธีการทดสอบโปรแกรม Unit Converter เบื้องต้น สูตรการคำนวณในการแปลงหน่วยต่างๆ\n",
        "    *   เตรียม Test Case ไว้ล่วงหน้า เพื่อใช้ตรวจสอบเมื่อโค้ดเริ่มถูกเขียนแล้ว\n",
        "    *   ช่วยรีวิว requirement จาก Planner ว่ามีจุดไหนควรทดสอบหรือมีความคลุมเครือ\n",
        "\n",
        "3. 💻 **ข้าวปั้น (Coder)**\n",
        "    *   ตั้งค่า Environment สำหรับการเขียนโค้ด ในที่นี้เลือกใช้ Python\n",
        "    *  เตรียมโครงสร้างไฟล์โปรเจกต์\n",
        "    *  ทดลองเขียนฟังก์ชันแปลงหน่วยง่าย ๆ เช่น kg → lb, C → F\n",
        "    *  เขียน README เบื้องต้น อธิบายว่าโปรเจกต์นี้ทำอะไร ใช้งานอย่างไร"
      ],
      "metadata": {
        "id": "hBDHJQf2vOS2"
      }
    },
    {
      "cell_type": "markdown",
      "source": [
        "\n",
        "\n",
        ">📂 **Deliverables สิ้นสัปดาห์ที่ 1**\n",
        "\n",
        "1. ขอบเขตของโปรเจกต์ + Requirement (โดยโบ๊ท) ✅\n",
        "2. Test Cases เบื้องต้น (โดยต้า) ✅\n",
        "3. โครงสร้างโปรเจกต์ + ฟังก์ชันทดลองเล็ก ๆ (โดยข้าวปั้น) ✅\n",
        "4. Task Board แบ่งงานชัดเจน (ทั้งทีมเห็นร่วมกัน) ✅\n",
        "\n",
        "\n"
      ],
      "metadata": {
        "id": "5ksWUWPd-1xm"
      }
    },
    {
      "cell_type": "markdown",
      "source": [
        "  **สูตรที่ใช้ในการคำนวณ**\n",
        "\n",
        "1.   Fahrenheit → Celsius คือ °C=(°F−32)×5​/9\n",
        "2.   Celsius → Fahrenheit คือ °F=(°C×9/5​)+32\n",
        "3.   Celsius → Kelvin คือ K=°C+273.15\n",
        "4.   Kilogram → Pound คือ lb=kg×2.20462\n",
        "5.   Pound → Kilogram คือ kg=lb×0.453592\n",
        "\n"
      ],
      "metadata": {
        "id": "q5VBt2sXieA-"
      }
    },
    {
      "cell_type": "markdown",
      "source": [
        "\n",
        "\n",
        ">**🐍 Code ของสัปดาห์นี้**\n",
        "\n"
      ],
      "metadata": {
        "id": "kr5EYfB7PBhh"
      }
    },
    {
      "cell_type": "code",
      "execution_count": 1,
      "metadata": {
        "colab": {
          "base_uri": "https://localhost:8080/"
        },
        "id": "7xED4EpI0rrj",
        "outputId": "85cee5a9-73db-493a-c34f-1a6e39cbf3c3"
      },
      "outputs": [
        {
          "output_type": "stream",
          "name": "stdout",
          "text": [
            "Writing converter.py\n"
          ]
        }
      ],
      "source": [
        "%%writefile converter.py\n",
        "\n",
        "def fahrenheit_to_celsius(fr):\n",
        "    fr = (fr - 32) * 5 / 9\n",
        "    return fr, f\"Fahrenheit equal {fr:.2f} Celsius\"\n",
        "\n",
        "def celsius_to_fahrenheit(c):\n",
        "    c = (c * 9 / 5) + 32\n",
        "    return c, f\"Celsius equal {c:.2f} Fahrenheit\"\n",
        "\n",
        "def celsius_to_kelvin(c):\n",
        "    k = c + 273.15\n",
        "    return k, f\"Celsius equal {k:.2f} Kelvin\"\n",
        "\n",
        "def kilogram_to_pound(kg):\n",
        "    lb = kg * 2.20462\n",
        "    return lb, f\"{kg:.2f} Kilogram equal {lb:.2f} Pound\"\n",
        "\n",
        "def pound_to_kilogram(lb):\n",
        "    kg = lb / 0.453592\n",
        "    return kg, f\"{lb:.2f} Pound equal {kg:.2f} Kilogram\"\n"
      ]
    },
    {
      "cell_type": "code",
      "source": [
        "import converter\n",
        "\n",
        "while True:\n",
        "    print(\"=== 🗿 Welcome to Unit Converter 🗿 ===\")\n",
        "    print(\"1. Fahrenheit to Celsius\")\n",
        "    print(\"2. Celsius to Fahrenheit\")\n",
        "    print(\"3. Celsius to Kelvin\")\n",
        "    print(\"4. Kilogram to Pound\")\n",
        "    print(\"5. Pound to Kilogram\")\n",
        "    print(\"6. Exit\")\n",
        "    print(\"====================================\\n\")\n",
        "\n",
        "    try:\n",
        "        choice = int(input(\"Choose your Choice: \"))\n",
        "    except ValueError:\n",
        "        print(\"❌ Invalid input! Please enter a number.\\n\")\n",
        "        continue\n",
        "\n",
        "    if choice == 1:\n",
        "        fr = float(input(\"Enter Fahrenheit: \"))\n",
        "        result, message = converter.fahrenheit_to_celsius(fr)\n",
        "        print(message, \"\\n\")\n",
        "\n",
        "    elif choice == 2:\n",
        "        c = float(input(\"Enter Celsius: \"))\n",
        "        result, message = converter.celsius_to_fahrenheit(c)\n",
        "        print(message, \"\\n\")\n",
        "\n",
        "    elif choice == 3:\n",
        "        c = float(input(\"Enter Celsius: \"))\n",
        "        result, message = converter.celsius_to_kelvin(c)\n",
        "        print(message, \"\\n\")\n",
        "\n",
        "    elif choice == 4:\n",
        "        kg = float(input(\"Enter Kilogram: \"))\n",
        "        result, message = converter.kilogram_to_pound(kg)\n",
        "        print(message, \"\\n\")\n",
        "\n",
        "    elif choice == 5:\n",
        "        lb = float(input(\"Enter Pound: \"))\n",
        "        result, message = converter.pound_to_kilogram(lb)\n",
        "        print(message, \"\\n\")\n",
        "\n",
        "    elif choice == 6:\n",
        "        print(\"Exiting the converter. Goodbye!\\n\")\n",
        "        break\n",
        "\n",
        "    else:\n",
        "        print(\"❌ Invalid choice. Please select between 1–6.\\n\")\n"
      ],
      "metadata": {
        "colab": {
          "base_uri": "https://localhost:8080/"
        },
        "id": "B4nstVjj1LL0",
        "outputId": "69da26b4-c0d9-49aa-efce-32a389699632"
      },
      "execution_count": 2,
      "outputs": [
        {
          "output_type": "stream",
          "name": "stdout",
          "text": [
            "=== 🗿 Welcome to Unit Converter 🗿 ===\n",
            "1. Fahrenheit to Celsius\n",
            "2. Celsius to Fahrenheit\n",
            "3. Celsius to Kelvin\n",
            "4. Kilogram to Pound\n",
            "5. Pound to Kilogram\n",
            "6. Exit\n",
            "====================================\n",
            "\n",
            "Choose your Choice: 1\n",
            "Enter Fahrenheit: 34\n",
            "Fahrenheit equal 1.11 Celsius \n",
            "\n",
            "=== 🗿 Welcome to Unit Converter 🗿 ===\n",
            "1. Fahrenheit to Celsius\n",
            "2. Celsius to Fahrenheit\n",
            "3. Celsius to Kelvin\n",
            "4. Kilogram to Pound\n",
            "5. Pound to Kilogram\n",
            "6. Exit\n",
            "====================================\n",
            "\n",
            "Choose your Choice: 2\n",
            "Enter Celsius: 54\n",
            "Celsius equal 129.20 Fahrenheit \n",
            "\n",
            "=== 🗿 Welcome to Unit Converter 🗿 ===\n",
            "1. Fahrenheit to Celsius\n",
            "2. Celsius to Fahrenheit\n",
            "3. Celsius to Kelvin\n",
            "4. Kilogram to Pound\n",
            "5. Pound to Kilogram\n",
            "6. Exit\n",
            "====================================\n",
            "\n",
            "Choose your Choice: 3\n",
            "Enter Celsius: 25\n",
            "Celsius equal 298.15 Kelvin \n",
            "\n",
            "=== 🗿 Welcome to Unit Converter 🗿 ===\n",
            "1. Fahrenheit to Celsius\n",
            "2. Celsius to Fahrenheit\n",
            "3. Celsius to Kelvin\n",
            "4. Kilogram to Pound\n",
            "5. Pound to Kilogram\n",
            "6. Exit\n",
            "====================================\n",
            "\n",
            "Choose your Choice: 4\n",
            "Enter Kilogram: 180\n",
            "180.00 Kilogram equal 396.83 Pound \n",
            "\n",
            "=== 🗿 Welcome to Unit Converter 🗿 ===\n",
            "1. Fahrenheit to Celsius\n",
            "2. Celsius to Fahrenheit\n",
            "3. Celsius to Kelvin\n",
            "4. Kilogram to Pound\n",
            "5. Pound to Kilogram\n",
            "6. Exit\n",
            "====================================\n",
            "\n",
            "Choose your Choice: 5\n",
            "Enter Pound: 56\n",
            "56.00 Pound equal 123.46 Kilogram \n",
            "\n",
            "=== 🗿 Welcome to Unit Converter 🗿 ===\n",
            "1. Fahrenheit to Celsius\n",
            "2. Celsius to Fahrenheit\n",
            "3. Celsius to Kelvin\n",
            "4. Kilogram to Pound\n",
            "5. Pound to Kilogram\n",
            "6. Exit\n",
            "====================================\n",
            "\n",
            "Choose your Choice: 6\n",
            "Exiting the converter. Goodbye!\n",
            "\n"
          ]
        }
      ]
    },
    {
      "cell_type": "markdown",
      "source": [
        "\n",
        "\n",
        "---\n",
        "\n"
      ],
      "metadata": {
        "id": "5yi2SNB7BSxm"
      }
    },
    {
      "cell_type": "markdown",
      "source": [
        "\n",
        "\n",
        "> **Prompt 2**\n",
        "\n",
        "\n",
        "\n",
        "> reframe this into github and full function sourcecode for week1/sprint 1\n",
        "\n"
      ],
      "metadata": {
        "id": "OQT4PDFKBWi2"
      }
    },
    {
      "cell_type": "markdown",
      "source": [
        "อัพโหลดไฟล์ลงไปใน Github\n",
        "Github link: [Click here!](https://github.com/RatchapoomTH/UnitConverter_script_programming_project/tree/43bdcc2a845aa680bd795b47257a5b2db8b7e0b4/Week%201)"
      ],
      "metadata": {
        "id": "c9lX4RAEBtBe"
      }
    }
  ]
}
